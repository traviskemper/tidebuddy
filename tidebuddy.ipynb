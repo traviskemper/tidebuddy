{
 "cells": [
  {
   "cell_type": "markdown",
   "metadata": {},
   "source": [
    "# Tide scraper "
   ]
  },
  {
   "cell_type": "markdown",
   "metadata": {},
   "source": [
    "## Import modules"
   ]
  },
  {
   "cell_type": "code",
   "execution_count": 1,
   "metadata": {},
   "outputs": [],
   "source": [
    "from selenium import webdriver\n",
    "from selenium.webdriver.common.keys import Keys\n",
    "\n",
    "from datetime import datetime\n",
    "\n",
    "import wget\n",
    "\n",
    "import zipfile\n",
    "\n",
    "import platform\n",
    "\n",
    "import os.path\n",
    "\n",
    "import json\n",
    "\n",
    "import pandas as pd"
   ]
  },
  {
   "cell_type": "markdown",
   "metadata": {},
   "source": [
    "## Setup Input locations"
   ]
  },
  {
   "cell_type": "code",
   "execution_count": 2,
   "metadata": {},
   "outputs": [],
   "source": [
    "location_l = [\n",
    "    \"Half Moon Bay, California\",\n",
    "    \"Huntington Beach, California\",\n",
    "    \"Providence, Rhode Island\",\n",
    "    \"Wrightsville Beach, North Carolina\",\n",
    "]"
   ]
  },
  {
   "cell_type": "code",
   "execution_count": 3,
   "metadata": {},
   "outputs": [],
   "source": [
    "home_url = \"https://www.tide-forecast.com/\""
   ]
  },
  {
   "cell_type": "markdown",
   "metadata": {},
   "source": [
    "## Setup driver"
   ]
  },
  {
   "cell_type": "markdown",
   "metadata": {},
   "source": [
    "### If running on widows download windows chromedriver "
   ]
  },
  {
   "cell_type": "code",
   "execution_count": 4,
   "metadata": {},
   "outputs": [],
   "source": [
    "web_driver_path = './chromedriver.exe'"
   ]
  },
  {
   "cell_type": "code",
   "execution_count": 5,
   "metadata": {},
   "outputs": [
    {
     "name": "stdout",
     "output_type": "stream",
     "text": [
      "chrome driver is in current directory\n"
     ]
    }
   ],
   "source": [
    "if( os.path.exists(web_driver_path)  ):\n",
    "    print(\"chrome driver is in current directory\")\n",
    "else:\n",
    "    print(\"chrome driver not in current directory, will try to download\")\n",
    "\n",
    "    if( 'Windows' in platform.platform() ):\n",
    "\n",
    "        filename = wget.download('https://chromedriver.storage.googleapis.com/100.0.4896.60/chromedriver_win32.zip')\n",
    "\n",
    "        print(filename)\n",
    "\n",
    "        with zipfile.ZipFile(filename, 'r') as zip_ref:\n",
    "            try:\n",
    "                zip_ref.extractall('./')\n",
    "            except:\n",
    "                print(\"Issue found extracting driver to current folder\")\n",
    "\n",
    "    else:\n",
    "        print(\"Please place chromdrive in current directory\")"
   ]
  },
  {
   "cell_type": "markdown",
   "metadata": {},
   "source": [
    "### Initialize driver"
   ]
  },
  {
   "cell_type": "code",
   "execution_count": 6,
   "metadata": {},
   "outputs": [],
   "source": [
    "options = webdriver.ChromeOptions()\n",
    "options.add_argument('--ignore-ssl-errors=yes')\n",
    "options.add_argument('--ignore-certificate-errors')\n",
    "\n",
    "driver = webdriver.Chrome(web_driver_path, options=options)"
   ]
  },
  {
   "cell_type": "markdown",
   "metadata": {},
   "source": [
    "### Initialize json to capture data"
   ]
  },
  {
   "cell_type": "markdown",
   "metadata": {},
   "source": [
    "## Run webscraper to get data"
   ]
  },
  {
   "cell_type": "code",
   "execution_count": 7,
   "metadata": {},
   "outputs": [
    {
     "name": "stdout",
     "output_type": "stream",
     "text": [
      "Searching for Half Moon Bay, California\n",
      "Half Moon Bay, California page found\n",
      "Searching for Huntington Beach, California\n",
      "Huntington Beach, California page found\n",
      "Searching for Providence, Rhode Island\n",
      "Providence, Rhode Island page found\n",
      "Searching for Wrightsville Beach, North Carolina\n",
      "Wrightsville Beach, North Carolina page found\n"
     ]
    }
   ],
   "source": [
    "# Initialize data object to collect data from webpage\n",
    "j = {}\n",
    "# Loop over input locations \n",
    "for location_i in location_l:\n",
    "    # Always start at the home page\n",
    "    driver.get(home_url)\n",
    "    # initialize data objects\n",
    "    location_json = {}\n",
    "    days = {}\n",
    "    # Get location name for list \n",
    "    loc_city = location_i.split(\",\")[0].strip()\n",
    "    loc_state = location_i.split(\",\")[1].strip()\n",
    "    #\n",
    "    print(\"Searching for {}, {}\".format(loc_city, loc_state))\n",
    "    location_found = False\n",
    "    # Search for location using search bar\n",
    "    driver.find_element_by_id(\"homepage-mast__location\").send_keys( location_i )\n",
    "    el_s = driver.find_element_by_xpath(\"/html/body/main/div/div[1]/div[1]/div[1]/div/div[1]/div[1]/form/div/div[2]/input\")\n",
    "    el_s.click()\n",
    "    # If location page is found \n",
    "    if( loc_city in  driver.title ):\n",
    "        location_found = True\n",
    "    else:\n",
    "        # Search for location using search bar region_id\n",
    "        driver.find_element_by_id(\"region_id\").send_keys( loc_state )\n",
    "        driver.find_element_by_id(\"location_filename_part\").send_keys( loc_city )\n",
    "        el_s = driver.find_element_by_xpath(\"/html/body/header/div[2]/div/nav/div/div/form/div/div/div[4]/div/input\")\n",
    "        el_s.click()        \n",
    "        # If location page is found \n",
    "        if( loc_city in  driver.title ):\n",
    "            location_found = True     \n",
    "    if( location_found ):\n",
    "        print(\"{} page found\".format(location_i) )\n",
    "        # Loop over days on the page\n",
    "        for tideday in driver.find_elements_by_class_name('tide-day'):\n",
    "            # print(tideday)          \n",
    "            # Get date for day \n",
    "            for tideday__date in tideday.find_elements_by_class_name('tide-day__date'):\n",
    "                # Parse date from string \n",
    "                day_title = tideday__date.text\n",
    "                day_date = day_title.split(':')[1].strip()\n",
    "                # print(day_date)\n",
    "                # Initialize lists for tide information \n",
    "                day ={}\n",
    "                tide_l = []\n",
    "                tide_dt_l = []\n",
    "                tide_h_l = []\n",
    "                sr_l = []\n",
    "                sr_dt_l = []\n",
    "                # Loop over tide table\n",
    "                for tideday__tables in tideday.find_elements_by_class_name('tide-day__tables'):\n",
    "                    for row in tideday__tables.find_elements_by_css_selector('tr'):\n",
    "                        cell_l = row.find_elements_by_tag_name('td') \n",
    "                        # ToDo: \n",
    "                        #   Use class table classes \"tide-day-tides\" and \"not-in-print tide-day__sun-moon\"\n",
    "                        #   to split table reads \n",
    "                        # Check if it is a tide table\n",
    "                        if( ('Tide' in row.text) & (len(cell_l) == 3 ) ):\n",
    "                            # print(row.text)\n",
    "                            tide_l.append(cell_l[0].text)\n",
    "                            tide_dt_l.append(cell_l[1].text)\n",
    "                            tide_h_l.append(cell_l[2].text)\n",
    "                        # Check if it is a sunrise sunset table\n",
    "                        elif( len(cell_l) == 4  ):\n",
    "                            for cell in cell_l:\n",
    "                                sr_text_l = cell.text.split('\\n')\n",
    "                                if( len(sr_text_l) > 1 ):\n",
    "                                    sr_l.append(sr_text_l[0])\n",
    "                                    sr_dt_l.append(sr_text_l[1])\n",
    "                # Place lists in a dictionary \n",
    "                day['tides'] = {'Tide':tide_l,'Datetime':tide_dt_l,'Height':tide_h_l}\n",
    "                # Place lists in a dictionary \n",
    "                day['sr'] = {'Event':sr_l,'Datetime':sr_dt_l}\n",
    "                # Add day to days dictionary\n",
    "                days[day_date] = day\n",
    "        # ToDo: Add scraper for today's infromation\n",
    "        # Add days to location dictionary \n",
    "        location_json['days'] = days\n",
    "        location_json['city'] = loc_city\n",
    "        location_json['state'] = loc_state\n",
    "        j[location_i] = location_json\n",
    "    else:\n",
    "        print(\"Error {} not found\".format(loc_city) )"
   ]
  },
  {
   "cell_type": "code",
   "execution_count": 8,
   "metadata": {},
   "outputs": [],
   "source": [
    "driver.close()"
   ]
  },
  {
   "cell_type": "markdown",
   "metadata": {},
   "source": [
    "## Process data scrapped from website"
   ]
  },
  {
   "cell_type": "code",
   "execution_count": 9,
   "metadata": {},
   "outputs": [],
   "source": [
    "def tide_check(day, day_data):\n",
    "    '''Process day data and find low tide during day light hours\n",
    "    \n",
    "    Args:\n",
    "        day (str): date ('%A %d %B %Y')\n",
    "        day_data (dic): dictionary containing tide and sunrise/sunset data from web.\n",
    "\n",
    "    Returns:\n",
    "        df (DataFrame): time series of sunrise, sunset and tide events \n",
    " \n",
    "    '''\n",
    "    # Create dataframes\n",
    "    df_sr = pd.DataFrame( day_data['sr'] )\n",
    "    df_tides = pd.DataFrame( day_data['tides'] )\n",
    "    # Clean names \n",
    "    df_sr['Event'] = df_sr['Event'].str.replace(\":\",\"\")\n",
    "    # Clean times \n",
    "    df_sr['Datetime'] = df_sr['Datetime'].str.replace('00','12')\n",
    "    df_tides['Datetime'] = df_tides['Datetime'].str.replace('00','12')\n",
    "     # Create datetime objeccts \n",
    "    df_sr['Datetime_obj'] = df_sr['Datetime'].apply(lambda v:  datetime.strptime(\"{} {}\".format(day, v), '%A %d %B %Y %I:%M%p' ) )\n",
    "    df_tides['Datetime_obj'] = df_tides['Datetime'].apply(lambda v:  datetime.strptime(\"{} {}\".format(day, v.split('\\n')[0]), '%A %d %B %Y %I:%M %p' ) )\n",
    "   # Find sunrise and sunset \n",
    "    sunrise = df_sr.loc[ df_sr['Event']== 'Sunrise', 'Datetime_obj' ].iloc[0]\n",
    "    sunset = df_sr.loc[ df_sr['Event']== 'Sunset', 'Datetime_obj' ].iloc[0]\n",
    "    print(\"{} Sunrise:{} and Sunset:{}\".format(day, sunrise,sunset))\n",
    "    # Filter low tide during the day light hours \n",
    "    df_tides['daylight_lowtide'] = (df_tides['Tide'] == 'Low Tide') & (df_tides['Datetime_obj'] >= sunrise ) & (df_tides['Datetime_obj'] <= sunset )\n",
    "    df_sr['daylight_lowtide'] = False\n",
    "    # Set type \n",
    "    df_tides['type'] = 'tide'\n",
    "    df_sr['type'] = 'sr'\n",
    "    # Set day \n",
    "    day_obj  =  datetime.strptime(day,'%A %d %B %Y')\n",
    "    df_tides['day_obj'] = day_obj\n",
    "    df_sr['day_obj'] = day_obj\n",
    "    # Combine sr and tide data into single time series \n",
    "    df_tides = df_tides.rename(columns={'Tide':'Event'})\n",
    "    return df_tides.append( df_sr )"
   ]
  },
  {
   "cell_type": "code",
   "execution_count": 11,
   "metadata": {},
   "outputs": [
    {
     "name": "stdout",
     "output_type": "stream",
     "text": [
      "Half Moon Bay, California Half Moon Bay California\n",
      "Huntington Beach, California Huntington Beach California\n",
      "Providence, Rhode Island Providence Rhode Island\n",
      "Wrightsville Beach, North Carolina Wrightsville Beach North Carolina\n"
     ]
    }
   ],
   "source": [
    "# Loop over extracted location data \n",
    "for location_i, location_data in j.items():\n",
    "    print(location_i,location_data['city'],location_data['state'])"
   ]
  },
  {
   "cell_type": "code",
   "execution_count": 12,
   "metadata": {},
   "outputs": [
    {
     "name": "stdout",
     "output_type": "stream",
     "text": [
      "Half Moon Bay, California Half Moon Bay California\n",
      "Thursday 05 May 2022 Sunrise:2022-05-05 06:10:00 and Sunset:2022-05-05 20:03:00\n",
      "Friday 06 May 2022 Sunrise:2022-05-06 06:09:00 and Sunset:2022-05-06 20:04:00\n",
      "Saturday 07 May 2022 Sunrise:2022-05-07 06:08:00 and Sunset:2022-05-07 20:05:00\n",
      "Sunday 08 May 2022 Sunrise:2022-05-08 06:07:00 and Sunset:2022-05-08 20:06:00\n",
      "Monday 09 May 2022 Sunrise:2022-05-09 06:06:00 and Sunset:2022-05-09 20:07:00\n",
      "Tuesday 10 May 2022 Sunrise:2022-05-10 06:05:00 and Sunset:2022-05-10 20:08:00\n",
      "Wednesday 11 May 2022 Sunrise:2022-05-11 06:04:00 and Sunset:2022-05-11 20:09:00\n",
      "Thursday 12 May 2022 Sunrise:2022-05-12 06:03:00 and Sunset:2022-05-12 20:10:00\n",
      "Friday 13 May 2022 Sunrise:2022-05-13 06:02:00 and Sunset:2022-05-13 20:10:00\n",
      "Saturday 14 May 2022 Sunrise:2022-05-14 06:01:00 and Sunset:2022-05-14 20:11:00\n",
      "Sunday 15 May 2022 Sunrise:2022-05-15 06:12:00 and Sunset:2022-05-15 20:12:00\n",
      "Monday 16 May 2022 Sunrise:2022-05-16 05:59:00 and Sunset:2022-05-16 20:13:00\n",
      "Tuesday 17 May 2022 Sunrise:2022-05-17 05:59:00 and Sunset:2022-05-17 20:14:00\n",
      "Wednesday 18 May 2022 Sunrise:2022-05-18 05:58:00 and Sunset:2022-05-18 20:15:00\n",
      "Thursday 19 May 2022 Sunrise:2022-05-19 05:57:00 and Sunset:2022-05-19 20:15:00\n",
      "Friday 20 May 2022 Sunrise:2022-05-20 05:56:00 and Sunset:2022-05-20 20:16:00\n",
      "Saturday 21 May 2022 Sunrise:2022-05-21 05:56:00 and Sunset:2022-05-21 20:17:00\n",
      "Sunday 22 May 2022 Sunrise:2022-05-22 05:55:00 and Sunset:2022-05-22 20:18:00\n",
      "Monday 23 May 2022 Sunrise:2022-05-23 05:54:00 and Sunset:2022-05-23 20:19:00\n",
      "Tuesday 24 May 2022 Sunrise:2022-05-24 05:54:00 and Sunset:2022-05-24 20:19:00\n",
      "Wednesday 25 May 2022 Sunrise:2022-05-25 05:53:00 and Sunset:2022-05-25 20:20:00\n",
      "Thursday 26 May 2022 Sunrise:2022-05-26 05:53:00 and Sunset:2022-05-26 20:21:00\n",
      "Friday 27 May 2022 Sunrise:2022-05-27 05:52:00 and Sunset:2022-05-27 20:22:00\n",
      "Saturday 28 May 2022 Sunrise:2022-05-28 05:52:00 and Sunset:2022-05-28 20:22:00\n",
      "Sunday 29 May 2022 Sunrise:2022-05-29 05:51:00 and Sunset:2022-05-29 20:23:00\n",
      "Monday 30 May 2022 Sunrise:2022-05-30 05:51:00 and Sunset:2022-05-30 20:24:00\n",
      "Tuesday 31 May 2022 Sunrise:2022-05-31 05:50:00 and Sunset:2022-05-31 20:24:00\n",
      "Wednesday 01 June 2022 Sunrise:2022-06-01 05:50:00 and Sunset:2022-06-01 20:25:00\n",
      "Huntington Beach, California Huntington Beach California\n",
      "Thursday 05 May 2022 Sunrise:2022-05-05 05:59:00 and Sunset:2022-05-05 19:38:00\n",
      "Friday 06 May 2022 Sunrise:2022-05-06 05:58:00 and Sunset:2022-05-06 19:39:00\n",
      "Saturday 07 May 2022 Sunrise:2022-05-07 05:57:00 and Sunset:2022-05-07 19:40:00\n",
      "Sunday 08 May 2022 Sunrise:2022-05-08 05:56:00 and Sunset:2022-05-08 19:41:00\n",
      "Monday 09 May 2022 Sunrise:2022-05-09 05:55:00 and Sunset:2022-05-09 19:41:00\n",
      "Tuesday 10 May 2022 Sunrise:2022-05-10 05:54:00 and Sunset:2022-05-10 19:42:00\n",
      "Wednesday 11 May 2022 Sunrise:2022-05-11 05:54:00 and Sunset:2022-05-11 19:43:00\n",
      "Thursday 12 May 2022 Sunrise:2022-05-12 05:53:00 and Sunset:2022-05-12 19:44:00\n",
      "Friday 13 May 2022 Sunrise:2022-05-13 05:52:00 and Sunset:2022-05-13 19:44:00\n",
      "Saturday 14 May 2022 Sunrise:2022-05-14 05:51:00 and Sunset:2022-05-14 19:45:00\n",
      "Sunday 15 May 2022 Sunrise:2022-05-15 05:50:00 and Sunset:2022-05-15 19:46:00\n",
      "Monday 16 May 2022 Sunrise:2022-05-16 05:50:00 and Sunset:2022-05-16 19:47:00\n",
      "Tuesday 17 May 2022 Sunrise:2022-05-17 05:49:00 and Sunset:2022-05-17 19:47:00\n",
      "Wednesday 18 May 2022 Sunrise:2022-05-18 05:48:00 and Sunset:2022-05-18 19:48:00\n",
      "Thursday 19 May 2022 Sunrise:2022-05-19 05:48:00 and Sunset:2022-05-19 19:49:00\n",
      "Friday 20 May 2022 Sunrise:2022-05-20 05:47:00 and Sunset:2022-05-20 19:49:00\n",
      "Saturday 21 May 2022 Sunrise:2022-05-21 05:47:00 and Sunset:2022-05-21 19:50:00\n",
      "Sunday 22 May 2022 Sunrise:2022-05-22 05:46:00 and Sunset:2022-05-22 19:51:00\n",
      "Monday 23 May 2022 Sunrise:2022-05-23 05:46:00 and Sunset:2022-05-23 19:51:00\n",
      "Tuesday 24 May 2022 Sunrise:2022-05-24 05:45:00 and Sunset:2022-05-24 19:52:00\n",
      "Wednesday 25 May 2022 Sunrise:2022-05-25 05:45:00 and Sunset:2022-05-25 19:53:00\n",
      "Thursday 26 May 2022 Sunrise:2022-05-26 05:44:00 and Sunset:2022-05-26 19:54:00\n",
      "Friday 27 May 2022 Sunrise:2022-05-27 05:44:00 and Sunset:2022-05-27 19:54:00\n",
      "Saturday 28 May 2022 Sunrise:2022-05-28 05:43:00 and Sunset:2022-05-28 19:55:00\n",
      "Sunday 29 May 2022 Sunrise:2022-05-29 05:43:00 and Sunset:2022-05-29 19:55:00\n",
      "Monday 30 May 2022 Sunrise:2022-05-30 05:43:00 and Sunset:2022-05-30 19:56:00\n",
      "Tuesday 31 May 2022 Sunrise:2022-05-31 05:42:00 and Sunset:2022-05-31 19:57:00\n",
      "Wednesday 01 June 2022 Sunrise:2022-06-01 05:42:00 and Sunset:2022-06-01 19:57:00\n",
      "Providence, Rhode Island Providence Rhode Island\n",
      "Thursday 05 May 2022 Sunrise:2022-05-05 05:36:00 and Sunset:2022-05-05 19:48:00\n",
      "Friday 06 May 2022 Sunrise:2022-05-06 05:35:00 and Sunset:2022-05-06 19:49:00\n",
      "Saturday 07 May 2022 Sunrise:2022-05-07 05:34:00 and Sunset:2022-05-07 19:50:00\n",
      "Sunday 08 May 2022 Sunrise:2022-05-08 05:33:00 and Sunset:2022-05-08 19:51:00\n",
      "Monday 09 May 2022 Sunrise:2022-05-09 05:32:00 and Sunset:2022-05-09 19:52:00\n",
      "Tuesday 10 May 2022 Sunrise:2022-05-10 05:30:00 and Sunset:2022-05-10 19:53:00\n",
      "Wednesday 11 May 2022 Sunrise:2022-05-11 05:29:00 and Sunset:2022-05-11 19:54:00\n",
      "Thursday 12 May 2022 Sunrise:2022-05-12 05:28:00 and Sunset:2022-05-12 19:55:00\n",
      "Friday 13 May 2022 Sunrise:2022-05-13 05:27:00 and Sunset:2022-05-13 19:56:00\n",
      "Saturday 14 May 2022 Sunrise:2022-05-14 05:26:00 and Sunset:2022-05-14 19:57:00\n",
      "Sunday 15 May 2022 Sunrise:2022-05-15 05:25:00 and Sunset:2022-05-15 19:58:00\n",
      "Monday 16 May 2022 Sunrise:2022-05-16 05:24:00 and Sunset:2022-05-16 19:59:00\n",
      "Tuesday 17 May 2022 Sunrise:2022-05-17 05:23:00 and Sunset:2022-05-17 20:12:00\n",
      "Wednesday 18 May 2022 Sunrise:2022-05-18 05:22:00 and Sunset:2022-05-18 20:01:00\n",
      "Thursday 19 May 2022 Sunrise:2022-05-19 05:21:00 and Sunset:2022-05-19 20:02:00\n",
      "Friday 20 May 2022 Sunrise:2022-05-20 05:21:00 and Sunset:2022-05-20 20:03:00\n",
      "Saturday 21 May 2022 Sunrise:2022-05-21 05:20:00 and Sunset:2022-05-21 20:04:00\n",
      "Sunday 22 May 2022 Sunrise:2022-05-22 05:19:00 and Sunset:2022-05-22 20:05:00\n",
      "Monday 23 May 2022 Sunrise:2022-05-23 05:18:00 and Sunset:2022-05-23 20:06:00\n",
      "Tuesday 24 May 2022 Sunrise:2022-05-24 05:17:00 and Sunset:2022-05-24 20:07:00\n",
      "Wednesday 25 May 2022 Sunrise:2022-05-25 05:17:00 and Sunset:2022-05-25 20:08:00\n",
      "Thursday 26 May 2022 Sunrise:2022-05-26 05:16:00 and Sunset:2022-05-26 20:09:00\n",
      "Friday 27 May 2022 Sunrise:2022-05-27 05:15:00 and Sunset:2022-05-27 20:10:00\n",
      "Saturday 28 May 2022 Sunrise:2022-05-28 05:15:00 and Sunset:2022-05-28 20:10:00\n",
      "Sunday 29 May 2022 Sunrise:2022-05-29 05:14:00 and Sunset:2022-05-29 20:11:00\n",
      "Monday 30 May 2022 Sunrise:2022-05-30 05:14:00 and Sunset:2022-05-30 20:12:00\n",
      "Tuesday 31 May 2022 Sunrise:2022-05-31 05:13:00 and Sunset:2022-05-31 20:13:00\n",
      "Wednesday 01 June 2022 Sunrise:2022-06-01 05:13:00 and Sunset:2022-06-01 20:14:00\n",
      "Wrightsville Beach, North Carolina Wrightsville Beach North Carolina\n",
      "Thursday 05 May 2022 Sunrise:2022-05-05 06:17:00 and Sunset:2022-05-05 19:58:00\n",
      "Friday 06 May 2022 Sunrise:2022-05-06 06:16:00 and Sunset:2022-05-06 19:59:00\n",
      "Saturday 07 May 2022 Sunrise:2022-05-07 06:15:00 and Sunset:2022-05-07 20:12:00\n",
      "Sunday 08 May 2022 Sunrise:2022-05-08 06:14:00 and Sunset:2022-05-08 20:12:00\n",
      "Monday 09 May 2022 Sunrise:2022-05-09 06:14:00 and Sunset:2022-05-09 20:01:00\n",
      "Tuesday 10 May 2022 Sunrise:2022-05-10 06:13:00 and Sunset:2022-05-10 20:02:00\n",
      "Wednesday 11 May 2022 Sunrise:2022-05-11 06:12:00 and Sunset:2022-05-11 20:03:00\n",
      "Thursday 12 May 2022 Sunrise:2022-05-12 06:11:00 and Sunset:2022-05-12 20:03:00\n",
      "Friday 13 May 2022 Sunrise:2022-05-13 06:10:00 and Sunset:2022-05-13 20:04:00\n",
      "Saturday 14 May 2022 Sunrise:2022-05-14 06:09:00 and Sunset:2022-05-14 20:05:00\n",
      "Sunday 15 May 2022 Sunrise:2022-05-15 06:09:00 and Sunset:2022-05-15 20:06:00\n",
      "Monday 16 May 2022 Sunrise:2022-05-16 06:08:00 and Sunset:2022-05-16 20:06:00\n",
      "Tuesday 17 May 2022 Sunrise:2022-05-17 06:07:00 and Sunset:2022-05-17 20:07:00\n",
      "Wednesday 18 May 2022 Sunrise:2022-05-18 06:07:00 and Sunset:2022-05-18 20:08:00\n",
      "Thursday 19 May 2022 Sunrise:2022-05-19 06:06:00 and Sunset:2022-05-19 20:09:00\n",
      "Friday 20 May 2022 Sunrise:2022-05-20 06:05:00 and Sunset:2022-05-20 20:09:00\n",
      "Saturday 21 May 2022 Sunrise:2022-05-21 06:05:00 and Sunset:2022-05-21 20:10:00\n",
      "Sunday 22 May 2022 Sunrise:2022-05-22 06:04:00 and Sunset:2022-05-22 20:11:00\n",
      "Monday 23 May 2022 Sunrise:2022-05-23 06:04:00 and Sunset:2022-05-23 20:12:00\n",
      "Tuesday 24 May 2022 Sunrise:2022-05-24 06:03:00 and Sunset:2022-05-24 20:12:00\n",
      "Wednesday 25 May 2022 Sunrise:2022-05-25 06:03:00 and Sunset:2022-05-25 20:13:00\n",
      "Thursday 26 May 2022 Sunrise:2022-05-26 06:02:00 and Sunset:2022-05-26 20:14:00\n",
      "Friday 27 May 2022 Sunrise:2022-05-27 06:02:00 and Sunset:2022-05-27 20:14:00\n",
      "Saturday 28 May 2022 Sunrise:2022-05-28 06:01:00 and Sunset:2022-05-28 20:15:00\n"
     ]
    },
    {
     "name": "stdout",
     "output_type": "stream",
     "text": [
      "Sunday 29 May 2022 Sunrise:2022-05-29 06:01:00 and Sunset:2022-05-29 20:16:00\n",
      "Monday 30 May 2022 Sunrise:2022-05-30 06:01:00 and Sunset:2022-05-30 20:16:00\n",
      "Tuesday 31 May 2022 Sunrise:2022-05-31 06:12:00 and Sunset:2022-05-31 20:17:00\n",
      "Wednesday 01 June 2022 Sunrise:2022-06-01 06:12:00 and Sunset:2022-06-01 20:17:00\n"
     ]
    }
   ],
   "source": [
    "# Initialize dataframe object \n",
    "df = pd.DataFrame()\n",
    "# Loop over extracted location data \n",
    "for location_i, location_data in j.items():\n",
    "    print(location_i,location_data['city'],location_data['state'])\n",
    "    # Loop over days in and create time series for  sunrise, sunset and tide events \n",
    "    for day, day_data in location_data['days'].items():\n",
    "        df_day = tide_check(day, day_data)\n",
    "        df_day['City'] = location_data['city']\n",
    "        df_day['State'] = location_data['state']\n",
    "        df = df.append(df_day)"
   ]
  },
  {
   "cell_type": "code",
   "execution_count": 13,
   "metadata": {},
   "outputs": [],
   "source": [
    "df = df.reset_index()"
   ]
  },
  {
   "cell_type": "markdown",
   "metadata": {},
   "source": [
    "## Export data"
   ]
  },
  {
   "cell_type": "code",
   "execution_count": 14,
   "metadata": {},
   "outputs": [],
   "source": [
    "now_str = datetime.now().strftime(\"%F_%R\").replace(\":\",\"_\")"
   ]
  },
  {
   "cell_type": "code",
   "execution_count": 15,
   "metadata": {},
   "outputs": [],
   "source": [
    "with open('{}_web_data.json'.format(now_str), 'w') as outfile:\n",
    "    json.dump(j, outfile)"
   ]
  },
  {
   "cell_type": "code",
   "execution_count": 16,
   "metadata": {},
   "outputs": [],
   "source": [
    "df.to_csv('{}_proc_data.csv'.format(now_str))"
   ]
  },
  {
   "cell_type": "code",
   "execution_count": null,
   "metadata": {},
   "outputs": [],
   "source": []
  }
 ],
 "metadata": {
  "kernelspec": {
   "display_name": "Python 3",
   "language": "python",
   "name": "python3"
  },
  "language_info": {
   "codemirror_mode": {
    "name": "ipython",
    "version": 3
   },
   "file_extension": ".py",
   "mimetype": "text/x-python",
   "name": "python",
   "nbconvert_exporter": "python",
   "pygments_lexer": "ipython3",
   "version": "3.8.5"
  }
 },
 "nbformat": 4,
 "nbformat_minor": 4
}
